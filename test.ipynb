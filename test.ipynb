{
 "cells": [
  {
   "cell_type": "code",
   "execution_count": 1,
   "metadata": {},
   "outputs": [],
   "source": [
    "import cv2\n",
    "import os"
   ]
  },
  {
   "cell_type": "code",
   "execution_count": 9,
   "metadata": {},
   "outputs": [],
   "source": [
    "# Ed\n",
    "folder_path = r\"D:\\Food bank\\fridgecam\"\n",
    "images = os.listdir(folder_path)"
   ]
  },
  {
   "cell_type": "code",
   "execution_count": 18,
   "metadata": {},
   "outputs": [],
   "source": [
    "maxn = 500\n",
    "video_name = 'timelapse_video.avi'\n",
    "fps = 20  # Frames per second"
   ]
  },
  {
   "cell_type": "code",
   "execution_count": 19,
   "metadata": {},
   "outputs": [
    {
     "name": "stdout",
     "output_type": "stream",
     "text": [
      "Frame size: 1024x2048\n",
      "Video saved as timelapse_video.avi\n"
     ]
    }
   ],
   "source": [
    "# Define Video Parameters\n",
    "frame = cv2.imread(os.path.join(folder_path, images[0]))\n",
    "if frame is None:\n",
    "    print(\"Error reading the first image.\")\n",
    "    exit()\n",
    "\n",
    "height, width, layers = frame.shape\n",
    "print(f\"Frame size: {width}x{height}\")\n",
    "\n",
    "fourcc = cv2.VideoWriter_fourcc(*'XVID')\n",
    "video = cv2.VideoWriter(video_name, fourcc, fps, (width, height))\n",
    "\n",
    "if not video.isOpened():\n",
    "    print(\"Error: VideoWriter not opened.\")\n",
    "    exit(1)\n",
    "\n",
    "# Add Images to the Video\n",
    "for image in images[0:maxn]:\n",
    "    img_path = os.path.join(folder_path, image)\n",
    "    frame = cv2.imread(img_path)\n",
    "    if frame is None:\n",
    "        print(f\"Error reading image {img_path}\")\n",
    "        continue\n",
    "    video.write(frame)\n",
    "\n",
    "# Release Video Writer and Finish\n",
    "video.release()\n",
    "cv2.destroyAllWindows()\n",
    "\n",
    "print(f\"Video saved as {video_name}\")"
   ]
  },
  {
   "cell_type": "code",
   "execution_count": null,
   "metadata": {},
   "outputs": [],
   "source": []
  }
 ],
 "metadata": {
  "kernelspec": {
   "display_name": "Python 3",
   "language": "python",
   "name": "python3"
  },
  "language_info": {
   "codemirror_mode": {
    "name": "ipython",
    "version": 3
   },
   "file_extension": ".py",
   "mimetype": "text/x-python",
   "name": "python",
   "nbconvert_exporter": "python",
   "pygments_lexer": "ipython3",
   "version": "3.10.7"
  }
 },
 "nbformat": 4,
 "nbformat_minor": 2
}
